{
 "cells": [
  {
   "cell_type": "code",
   "execution_count": 1,
   "metadata": {},
   "outputs": [],
   "source": [
    "import pandas as pd"
   ]
  },
  {
   "cell_type": "code",
   "execution_count": 2,
   "metadata": {},
   "outputs": [
    {
     "data": {
      "text/html": [
       "<div>\n",
       "<style scoped>\n",
       "    .dataframe tbody tr th:only-of-type {\n",
       "        vertical-align: middle;\n",
       "    }\n",
       "\n",
       "    .dataframe tbody tr th {\n",
       "        vertical-align: top;\n",
       "    }\n",
       "\n",
       "    .dataframe thead th {\n",
       "        text-align: right;\n",
       "    }\n",
       "</style>\n",
       "<table border=\"1\" class=\"dataframe\">\n",
       "  <thead>\n",
       "    <tr style=\"text-align: right;\">\n",
       "      <th></th>\n",
       "      <th>Perguntas</th>\n",
       "      <th>Tags</th>\n",
       "    </tr>\n",
       "  </thead>\n",
       "  <tbody>\n",
       "    <tr>\n",
       "      <th>0</th>\n",
       "      <td>Possuo um projeto Node.js porém preciso criar ...</td>\n",
       "      <td>node.js</td>\n",
       "    </tr>\n",
       "    <tr>\n",
       "      <th>1</th>\n",
       "      <td>Gostaria de fazer testes unitários no Node.js,...</td>\n",
       "      <td>node.js</td>\n",
       "    </tr>\n",
       "    <tr>\n",
       "      <th>2</th>\n",
       "      <td>Como inverter a ordem com que o jQuery itera u...</td>\n",
       "      <td>jquery</td>\n",
       "    </tr>\n",
       "    <tr>\n",
       "      <th>3</th>\n",
       "      <td>Eu tenho uma página onde pretendo utilizar um ...</td>\n",
       "      <td>html</td>\n",
       "    </tr>\n",
       "    <tr>\n",
       "      <th>4</th>\n",
       "      <td>Como exibir os dados retornados do FireStore e...</td>\n",
       "      <td>html angular</td>\n",
       "    </tr>\n",
       "  </tbody>\n",
       "</table>\n",
       "</div>"
      ],
      "text/plain": [
       "                                           Perguntas           Tags\n",
       "0  Possuo um projeto Node.js porém preciso criar ...        node.js\n",
       "1  Gostaria de fazer testes unitários no Node.js,...        node.js\n",
       "2  Como inverter a ordem com que o jQuery itera u...         jquery\n",
       "3  Eu tenho uma página onde pretendo utilizar um ...           html\n",
       "4  Como exibir os dados retornados do FireStore e...  html angular "
      ]
     },
     "execution_count": 2,
     "metadata": {},
     "output_type": "execute_result"
    }
   ],
   "source": [
    "df = pd.read_csv('stackoverflow_perguntas.csv')\n",
    "df.head()"
   ]
  },
  {
   "cell_type": "code",
   "execution_count": 3,
   "metadata": {},
   "outputs": [
    {
     "data": {
      "text/plain": [
       "5408"
      ]
     },
     "execution_count": 3,
     "metadata": {},
     "output_type": "execute_result"
    }
   ],
   "source": [
    "len(df)"
   ]
  },
  {
   "cell_type": "code",
   "execution_count": 5,
   "metadata": {},
   "outputs": [
    {
     "data": {
      "text/plain": [
       "array(['node.js', 'jquery', 'html', 'html angular ', 'html ', 'angular',\n",
       "       'angular ', 'jquery html  ', 'jquery ', 'jquery html',\n",
       "       'jquery html ', 'html angular', 'angular node.js ', 'html  ',\n",
       "       'jquery html angular', 'node.js ', 'html jquery', 'html jquery ',\n",
       "       'jquery angular  ', 'html node.js', 'jquery  ', 'angular node.js',\n",
       "       'jquery angular', 'html node.js ', 'jquery node.js ', 'angular  ',\n",
       "       'jquery angular ', 'jquery html angular ', 'node.js html ',\n",
       "       ' node.js', 'node.js html', 'html angular  ', 'jquery node.js',\n",
       "       'angular html', 'html angular  node.js', 'jquery html node.js',\n",
       "       'html angular node.js'], dtype=object)"
      ]
     },
     "execution_count": 5,
     "metadata": {},
     "output_type": "execute_result"
    }
   ],
   "source": [
    "df.Tags.unique()"
   ]
  },
  {
   "cell_type": "code",
   "execution_count": 6,
   "metadata": {},
   "outputs": [
    {
     "data": {
      "text/plain": [
       "37"
      ]
     },
     "execution_count": 6,
     "metadata": {},
     "output_type": "execute_result"
    }
   ],
   "source": [
    "df.Tags.nunique()"
   ]
  },
  {
   "cell_type": "code",
   "execution_count": 7,
   "metadata": {},
   "outputs": [
    {
     "data": {
      "text/plain": [
       "['node.js', 'jquery', 'html', 'angular']"
      ]
     },
     "execution_count": 7,
     "metadata": {},
     "output_type": "execute_result"
    }
   ],
   "source": [
    "labels = []\n",
    "\n",
    "for tags in df.Tags.unique():\n",
    "    for tag in tags.split():\n",
    "        if not tag in labels:\n",
    "            labels.append(tag)\n",
    "\n",
    "labels"
   ]
  },
  {
   "cell_type": "code",
   "execution_count": 9,
   "metadata": {},
   "outputs": [
    {
     "data": {
      "text/html": [
       "<div>\n",
       "<style scoped>\n",
       "    .dataframe tbody tr th:only-of-type {\n",
       "        vertical-align: middle;\n",
       "    }\n",
       "\n",
       "    .dataframe tbody tr th {\n",
       "        vertical-align: top;\n",
       "    }\n",
       "\n",
       "    .dataframe thead th {\n",
       "        text-align: right;\n",
       "    }\n",
       "</style>\n",
       "<table border=\"1\" class=\"dataframe\">\n",
       "  <thead>\n",
       "    <tr style=\"text-align: right;\">\n",
       "      <th></th>\n",
       "      <th>Perguntas</th>\n",
       "      <th>Tags</th>\n",
       "      <th>node.js</th>\n",
       "      <th>jquery</th>\n",
       "      <th>html</th>\n",
       "      <th>angular</th>\n",
       "    </tr>\n",
       "  </thead>\n",
       "  <tbody>\n",
       "    <tr>\n",
       "      <th>0</th>\n",
       "      <td>Possuo um projeto Node.js porém preciso criar ...</td>\n",
       "      <td>node.js</td>\n",
       "      <td>1</td>\n",
       "      <td>0</td>\n",
       "      <td>0</td>\n",
       "      <td>0</td>\n",
       "    </tr>\n",
       "    <tr>\n",
       "      <th>1</th>\n",
       "      <td>Gostaria de fazer testes unitários no Node.js,...</td>\n",
       "      <td>node.js</td>\n",
       "      <td>1</td>\n",
       "      <td>0</td>\n",
       "      <td>0</td>\n",
       "      <td>0</td>\n",
       "    </tr>\n",
       "    <tr>\n",
       "      <th>2</th>\n",
       "      <td>Como inverter a ordem com que o jQuery itera u...</td>\n",
       "      <td>jquery</td>\n",
       "      <td>0</td>\n",
       "      <td>1</td>\n",
       "      <td>0</td>\n",
       "      <td>0</td>\n",
       "    </tr>\n",
       "    <tr>\n",
       "      <th>3</th>\n",
       "      <td>Eu tenho uma página onde pretendo utilizar um ...</td>\n",
       "      <td>html</td>\n",
       "      <td>0</td>\n",
       "      <td>0</td>\n",
       "      <td>1</td>\n",
       "      <td>0</td>\n",
       "    </tr>\n",
       "    <tr>\n",
       "      <th>4</th>\n",
       "      <td>Como exibir os dados retornados do FireStore e...</td>\n",
       "      <td>html angular</td>\n",
       "      <td>0</td>\n",
       "      <td>0</td>\n",
       "      <td>1</td>\n",
       "      <td>1</td>\n",
       "    </tr>\n",
       "  </tbody>\n",
       "</table>\n",
       "</div>"
      ],
      "text/plain": [
       "                                           Perguntas           Tags  node.js  \\\n",
       "0  Possuo um projeto Node.js porém preciso criar ...        node.js        1   \n",
       "1  Gostaria de fazer testes unitários no Node.js,...        node.js        1   \n",
       "2  Como inverter a ordem com que o jQuery itera u...         jquery        0   \n",
       "3  Eu tenho uma página onde pretendo utilizar um ...           html        0   \n",
       "4  Como exibir os dados retornados do FireStore e...  html angular         0   \n",
       "\n",
       "   jquery  html  angular  \n",
       "0       0     0        0  \n",
       "1       0     0        0  \n",
       "2       1     0        0  \n",
       "3       0     1        0  \n",
       "4       0     1        1  "
      ]
     },
     "execution_count": 9,
     "metadata": {},
     "output_type": "execute_result"
    }
   ],
   "source": [
    "for label in labels:\n",
    "    df[label] = 0\n",
    "    df.loc[df['Tags'].apply(lambda tags: label in tags), label] = 1\n",
    "\n",
    "df.head()  "
   ]
  },
  {
   "cell_type": "code",
   "execution_count": 11,
   "metadata": {},
   "outputs": [
    {
     "data": {
      "text/html": [
       "<div>\n",
       "<style scoped>\n",
       "    .dataframe tbody tr th:only-of-type {\n",
       "        vertical-align: middle;\n",
       "    }\n",
       "\n",
       "    .dataframe tbody tr th {\n",
       "        vertical-align: top;\n",
       "    }\n",
       "\n",
       "    .dataframe thead th {\n",
       "        text-align: right;\n",
       "    }\n",
       "</style>\n",
       "<table border=\"1\" class=\"dataframe\">\n",
       "  <thead>\n",
       "    <tr style=\"text-align: right;\">\n",
       "      <th></th>\n",
       "      <th>Perguntas</th>\n",
       "      <th>Tags</th>\n",
       "      <th>node.js</th>\n",
       "      <th>jquery</th>\n",
       "      <th>html</th>\n",
       "      <th>angular</th>\n",
       "      <th>Labels</th>\n",
       "    </tr>\n",
       "  </thead>\n",
       "  <tbody>\n",
       "    <tr>\n",
       "      <th>0</th>\n",
       "      <td>Possuo um projeto Node.js porém preciso criar ...</td>\n",
       "      <td>node.js</td>\n",
       "      <td>1</td>\n",
       "      <td>0</td>\n",
       "      <td>0</td>\n",
       "      <td>0</td>\n",
       "      <td>(1, 0, 0, 0)</td>\n",
       "    </tr>\n",
       "    <tr>\n",
       "      <th>1</th>\n",
       "      <td>Gostaria de fazer testes unitários no Node.js,...</td>\n",
       "      <td>node.js</td>\n",
       "      <td>1</td>\n",
       "      <td>0</td>\n",
       "      <td>0</td>\n",
       "      <td>0</td>\n",
       "      <td>(1, 0, 0, 0)</td>\n",
       "    </tr>\n",
       "    <tr>\n",
       "      <th>2</th>\n",
       "      <td>Como inverter a ordem com que o jQuery itera u...</td>\n",
       "      <td>jquery</td>\n",
       "      <td>0</td>\n",
       "      <td>1</td>\n",
       "      <td>0</td>\n",
       "      <td>0</td>\n",
       "      <td>(0, 1, 0, 0)</td>\n",
       "    </tr>\n",
       "    <tr>\n",
       "      <th>3</th>\n",
       "      <td>Eu tenho uma página onde pretendo utilizar um ...</td>\n",
       "      <td>html</td>\n",
       "      <td>0</td>\n",
       "      <td>0</td>\n",
       "      <td>1</td>\n",
       "      <td>0</td>\n",
       "      <td>(0, 0, 1, 0)</td>\n",
       "    </tr>\n",
       "    <tr>\n",
       "      <th>4</th>\n",
       "      <td>Como exibir os dados retornados do FireStore e...</td>\n",
       "      <td>html angular</td>\n",
       "      <td>0</td>\n",
       "      <td>0</td>\n",
       "      <td>1</td>\n",
       "      <td>1</td>\n",
       "      <td>(0, 0, 1, 1)</td>\n",
       "    </tr>\n",
       "  </tbody>\n",
       "</table>\n",
       "</div>"
      ],
      "text/plain": [
       "                                           Perguntas           Tags  node.js  \\\n",
       "0  Possuo um projeto Node.js porém preciso criar ...        node.js        1   \n",
       "1  Gostaria de fazer testes unitários no Node.js,...        node.js        1   \n",
       "2  Como inverter a ordem com que o jQuery itera u...         jquery        0   \n",
       "3  Eu tenho uma página onde pretendo utilizar um ...           html        0   \n",
       "4  Como exibir os dados retornados do FireStore e...  html angular         0   \n",
       "\n",
       "   jquery  html  angular        Labels  \n",
       "0       0     0        0  (1, 0, 0, 0)  \n",
       "1       0     0        0  (1, 0, 0, 0)  \n",
       "2       1     0        0  (0, 1, 0, 0)  \n",
       "3       0     1        0  (0, 0, 1, 0)  \n",
       "4       0     1        1  (0, 0, 1, 1)  "
      ]
     },
     "execution_count": 11,
     "metadata": {},
     "output_type": "execute_result"
    }
   ],
   "source": [
    "df['Labels'] = list(zip(*[df[label] for label in labels]))\n",
    "df.head()"
   ]
  },
  {
   "cell_type": "code",
   "execution_count": 12,
   "metadata": {},
   "outputs": [],
   "source": [
    "from sklearn.model_selection import train_test_split"
   ]
  },
  {
   "cell_type": "code",
   "execution_count": 13,
   "metadata": {},
   "outputs": [],
   "source": [
    "X_train, X_test, y_train, y_test = train_test_split(df.Perguntas, df.Labels, test_size=0.2, random_state=123)"
   ]
  },
  {
   "cell_type": "code",
   "execution_count": 14,
   "metadata": {},
   "outputs": [],
   "source": [
    "from sklearn.feature_extraction.text import TfidfVectorizer"
   ]
  },
  {
   "cell_type": "code",
   "execution_count": 15,
   "metadata": {},
   "outputs": [],
   "source": [
    "tf_idf = TfidfVectorizer(max_features=5000, max_df=0.85)\n",
    "tf_idf.fit(df.Perguntas)\n",
    "\n",
    "X_train = tf_idf.transform(X_train)\n",
    "X_test = tf_idf.transform(X_test)"
   ]
  }
 ],
 "metadata": {
  "kernelspec": {
   "display_name": "Python 3",
   "language": "python",
   "name": "python3"
  },
  "language_info": {
   "codemirror_mode": {
    "name": "ipython",
    "version": 3
   },
   "file_extension": ".py",
   "mimetype": "text/x-python",
   "name": "python",
   "nbconvert_exporter": "python",
   "pygments_lexer": "ipython3",
   "version": "3.10.0"
  },
  "orig_nbformat": 4
 },
 "nbformat": 4,
 "nbformat_minor": 2
}
